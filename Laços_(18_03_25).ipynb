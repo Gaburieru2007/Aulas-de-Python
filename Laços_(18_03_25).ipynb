{
  "nbformat": 4,
  "nbformat_minor": 0,
  "metadata": {
    "colab": {
      "provenance": [],
      "authorship_tag": "ABX9TyPLXgWW3bvAmPrTKXbpJp0N",
      "include_colab_link": true
    },
    "kernelspec": {
      "name": "python3",
      "display_name": "Python 3"
    },
    "language_info": {
      "name": "python"
    }
  },
  "cells": [
    {
      "cell_type": "markdown",
      "metadata": {
        "id": "view-in-github",
        "colab_type": "text"
      },
      "source": [
        "<a href=\"https://colab.research.google.com/github/Gaburieru2007/Aulas-de-Python/blob/main/La%C3%A7os_(18_03_25).ipynb\" target=\"_parent\"><img src=\"https://colab.research.google.com/assets/colab-badge.svg\" alt=\"Open In Colab\"/></a>"
      ]
    },
    {
      "cell_type": "markdown",
      "source": [
        "#While: Repete uma ação enquanto uma condição for verdadeira"
      ],
      "metadata": {
        "id": "wycj6wFAUYS0"
      }
    },
    {
      "cell_type": "code",
      "execution_count": null,
      "metadata": {
        "id": "xERAOZZDRqCL"
      },
      "outputs": [],
      "source": [
        "#Contador simples\n",
        "\n",
        "contador = 0\n",
        "while contador < 10:\n",
        "  contador = contador + 1\n",
        "  print(contador)\n"
      ]
    },
    {
      "cell_type": "markdown",
      "source": [
        "#Exercício\n",
        "\n",
        "#1- Modifique o código para contar de 1 a 20\n",
        "\n",
        "#2-Faça o código contar de 10 a 1\n",
        "\n"
      ],
      "metadata": {
        "id": "DDMGw4pOVZUE"
      }
    },
    {
      "cell_type": "code",
      "source": [
        "#1\n",
        "contador = 0\n",
        "while contador < 20:\n",
        "  contador = contador + 1\n",
        "  print(contador)"
      ],
      "metadata": {
        "id": "Jjj0uK9uV4oy"
      },
      "execution_count": null,
      "outputs": []
    },
    {
      "cell_type": "code",
      "source": [
        "#2\n",
        "cont = 10\n",
        "while cont > 0:\n",
        "  print(cont)\n",
        "  cont -= 1"
      ],
      "metadata": {
        "id": "T1WmWYf9WQTm"
      },
      "execution_count": null,
      "outputs": []
    },
    {
      "cell_type": "markdown",
      "source": [
        "#Desafio\n",
        "#Escreva um programa que imprime apenas os números pares de 1 a 10 usando o while"
      ],
      "metadata": {
        "id": "RZkeyLvCV5YZ"
      }
    },
    {
      "cell_type": "code",
      "source": [
        "cont = 1\n",
        "while cont < 11:\n",
        "  if cont % 2 == 0:\n",
        "    print(cont)\n",
        "  cont += 1"
      ],
      "metadata": {
        "id": "jnsC2stIXIXx"
      },
      "execution_count": null,
      "outputs": []
    },
    {
      "cell_type": "markdown",
      "source": [
        "# Questão EXTRA\n",
        "Pede um número, retorna o seu quadrado. O programa encerra quando digitar 0 (Use WHILE)"
      ],
      "metadata": {
        "id": "rUPLbwWnY2nq"
      }
    },
    {
      "cell_type": "code",
      "source": [
        "num = int(input(\"Insira um número: \"))\n",
        "while num != 0:\n",
        "  print (num**2)\n",
        "  num = int(input(\"Insira um número novamente: \"))\n",
        "\n"
      ],
      "metadata": {
        "id": "D_mzO25_ZAe7"
      },
      "execution_count": null,
      "outputs": []
    },
    {
      "cell_type": "code",
      "source": [
        "#Outra forma de fazer:\n",
        "\n",
        "while True:\n",
        "  num = int(input(\"Insira um número: \"))\n",
        "  if num == 0: break\n",
        "  else: print(num**2)\n"
      ],
      "metadata": {
        "id": "w-w0r4V6bJ0j"
      },
      "execution_count": null,
      "outputs": []
    },
    {
      "cell_type": "markdown",
      "source": [
        "#O *For* é mais adequado quando sabemos quantas vezes queremos repetir uma ação"
      ],
      "metadata": {
        "id": "ziJWsIUMYtHK"
      }
    },
    {
      "cell_type": "markdown",
      "source": [
        "O range(início, fim, passo) gera números dentro de um intervalo"
      ],
      "metadata": {
        "id": "IxOcUB2sdD_9"
      }
    },
    {
      "cell_type": "code",
      "source": [
        "#Contador com for\n",
        "for numero in range(1, 11):\n",
        "  print(numero)\n",
        "\n",
        "#Contagem Regressiva\n",
        "for numero in range(10, 0, -1):\n",
        "  print(numero)"
      ],
      "metadata": {
        "id": "VXBlNkwndQW8"
      },
      "execution_count": null,
      "outputs": []
    },
    {
      "cell_type": "markdown",
      "source": [
        "#Exercício\n",
        "**Modifique o código para contar de 1 a 20**\n",
        "\n",
        "\n",
        "**Faça o código para retornar a soma dos números de 1 a 100**\n",
        "\n",
        "**Faça o código contar apenas os números impares de 1 a 10**"
      ],
      "metadata": {
        "id": "2zKm3-7bd88C"
      }
    },
    {
      "cell_type": "code",
      "source": [
        "#1-20\n",
        "for numero in range (1, 21):\n",
        "  print(numero)"
      ],
      "metadata": {
        "id": "cPADUFP0eY6O"
      },
      "execution_count": null,
      "outputs": []
    },
    {
      "cell_type": "code",
      "source": [
        "#Soma de 1 a 100\n",
        "soma = 0\n",
        "\n",
        "for numero in range (1, 101):\n",
        "  soma += numero\n",
        "\n",
        "print(soma)"
      ],
      "metadata": {
        "id": "KqvG90jYefoe"
      },
      "execution_count": null,
      "outputs": []
    },
    {
      "cell_type": "code",
      "source": [
        "#Numeros pares\n",
        "for numero in range (1,11):\n",
        "  if numero % 2 != 0:\n",
        "    print(numero)\n"
      ],
      "metadata": {
        "id": "x4pdccJlg2pb"
      },
      "execution_count": null,
      "outputs": []
    },
    {
      "cell_type": "markdown",
      "source": [
        "#Quando usar WHILE e quando usar FOR?\n",
        "\n",
        "**WHILE**:\n",
        "\n",
        "*Quando não sabemos exatamente quantas repetições serão feitas*\n",
        "\n",
        "*Precisa de um contador manual*\n",
        "\n",
        "**FOR**:\n",
        "\n",
        "*Usa quando sabemos quantas vezes repetir*\n",
        "\n",
        "*Usa range() para criar contagens*"
      ],
      "metadata": {
        "id": "24bG9YrzhjXW"
      }
    },
    {
      "cell_type": "code",
      "source": [
        "#Bonus  - Trabalhando com números randomicos\n",
        "import random\n",
        "\n",
        "numero= random.randint(0,100)\n",
        "print(numero)"
      ],
      "metadata": {
        "colab": {
          "base_uri": "https://localhost:8080/"
        },
        "id": "Vq-8UkMKiYRz",
        "outputId": "3c052937-b72f-4fb4-a421-a4eb3504e3ba"
      },
      "execution_count": null,
      "outputs": [
        {
          "output_type": "stream",
          "name": "stdout",
          "text": [
            "99\n"
          ]
        }
      ]
    },
    {
      "cell_type": "markdown",
      "source": [
        "#Desafios:\n",
        "Tabuada- Crie um código que solicita um número e retorna sua tabuada de multiplicação\n",
        "\n",
        "Faça um programa que peça um numero ao usuario e exiba se ele é primo ou não usando um laço\n",
        "\n",
        "Faça um jogo de advinhar número.\n",
        "\n",
        "*O programa gera um número aleátorio entre 0 e 100*\n",
        "\n",
        "*Solicita ao usuário tentar acertar o número gerado*\n",
        "\n",
        "*Caso o jogador erre, é convidado a tentar mais uma vez*\n",
        "\n",
        "*Caso acerte, o jogo informa em quantas tentativas ele acertou*"
      ],
      "metadata": {
        "id": "-Qib5WeDinG6"
      }
    },
    {
      "cell_type": "code",
      "source": [
        "#Tabuada\n",
        "Tabuada = int(input(\"Insira um número para ver sua tabuada: \"))\n",
        "for numero in range (1, 11):\n",
        "  print()"
      ],
      "metadata": {
        "id": "C-XY5JVPjh5N"
      },
      "execution_count": null,
      "outputs": []
    }
  ]
}