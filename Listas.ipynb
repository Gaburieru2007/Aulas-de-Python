{
  "nbformat": 4,
  "nbformat_minor": 0,
  "metadata": {
    "colab": {
      "provenance": [],
      "authorship_tag": "ABX9TyNEjdvlTcMt+0G9UBCkTVPi",
      "include_colab_link": true
    },
    "kernelspec": {
      "name": "python3",
      "display_name": "Python 3"
    },
    "language_info": {
      "name": "python"
    }
  },
  "cells": [
    {
      "cell_type": "markdown",
      "metadata": {
        "id": "view-in-github",
        "colab_type": "text"
      },
      "source": [
        "<a href=\"https://colab.research.google.com/github/Gaburieru2007/Aulas-de-Python/blob/main/Listas.ipynb\" target=\"_parent\"><img src=\"https://colab.research.google.com/assets/colab-badge.svg\" alt=\"Open In Colab\"/></a>"
      ]
    },
    {
      "cell_type": "markdown",
      "source": [
        "##Listas (list)"
      ],
      "metadata": {
        "id": "kGA6yvcjSBPg"
      }
    },
    {
      "cell_type": "code",
      "source": [
        "frutas = {'maça' , 'banana', 'laranja', 'abacate', 'laranja', 'uva'}\n",
        "print(frutas)"
      ],
      "metadata": {
        "colab": {
          "base_uri": "https://localhost:8080/"
        },
        "id": "KxTldny1SFkv",
        "outputId": "1f236179-9e93-42d5-93e1-60e77706e971"
      },
      "execution_count": null,
      "outputs": [
        {
          "output_type": "stream",
          "name": "stdout",
          "text": [
            "{'uva', 'abacate', 'maça', 'banana', 'laranja'}\n"
          ]
        }
      ]
    },
    {
      "cell_type": "code",
      "source": [
        "#Identificar o tamanho da lista len(lista)\n",
        "print(len(frutas))"
      ],
      "metadata": {
        "colab": {
          "base_uri": "https://localhost:8080/"
        },
        "id": "YI1d53mLSxXq",
        "outputId": "92d8985c-c28f-4d0a-dfb2-798e6317480e"
      },
      "execution_count": null,
      "outputs": [
        {
          "output_type": "stream",
          "name": "stdout",
          "text": [
            "5\n"
          ]
        }
      ]
    },
    {
      "cell_type": "code",
      "source": [
        "#Count()- Quantas vezes um valor aparece\n",
        "frutas = ['maça' , 'banana', 'laranja', 'abacate', 'laranja', 'uva', 'uva', 'uva']\n",
        "print(frutas.count('uva'))"
      ],
      "metadata": {
        "colab": {
          "base_uri": "https://localhost:8080/"
        },
        "id": "deu2HdJ0THaI",
        "outputId": "51451302-3c97-4dd9-c9ca-d43a073b32b0"
      },
      "execution_count": null,
      "outputs": [
        {
          "output_type": "stream",
          "name": "stdout",
          "text": [
            "3\n"
          ]
        }
      ]
    },
    {
      "cell_type": "code",
      "source": [
        "#Imprimir elementos da lista pelo indice\n",
        "carros = ['gol', 'uno', 'fiesta', 'lada', 'marajo', 'voyage', 'santana']\n",
        "print(carros[0]) #Gol\n",
        "print(carros[1]) #uno\n",
        "print(carros[2]) #fiesta\n",
        "print(carros[-1]) #santana\n",
        "print(carros[2:5]) #Slice do indice 2 ao indice 4\n",
        "print(carros[:4]) #Slice até o indice 3\n",
        "print(carros[2:]) #Slice a apartir do indice 2\n",
        "#print(carros[7]) OUT OF INDEX\n"
      ],
      "metadata": {
        "id": "R-b37Hd5T91B"
      },
      "execution_count": null,
      "outputs": []
    },
    {
      "cell_type": "code",
      "source": [
        "carros[3:]"
      ],
      "metadata": {
        "id": "pXMS5Ot_V80d"
      },
      "execution_count": null,
      "outputs": []
    },
    {
      "cell_type": "code",
      "source": [
        "#Adicionar elemento em uma lista  lista.append('elemento')\n",
        "\n",
        "frutas.append('goiaba')\n",
        "print(frutas)"
      ],
      "metadata": {
        "id": "mdlevAw1VOkZ"
      },
      "execution_count": null,
      "outputs": []
    },
    {
      "cell_type": "code",
      "source": [
        "#Exercício 1\n",
        "#Faça um código que pede ao usuário que digite frutas e\n",
        "#Insere uma fruta na lista\n",
        "fruta = input('Digite uma fruta: ')\n",
        "frutas.append(fruta)\n",
        "print(frutas)"
      ],
      "metadata": {
        "id": "VjkuPwWNUb23"
      },
      "execution_count": null,
      "outputs": []
    },
    {
      "cell_type": "code",
      "source": [
        "#Exercício 2\n",
        "#Faça um laço qual solicita ao usúario que digite o nome de um caro para inserir\n",
        "#Ele para quando o usuário digitar o número 0.\n",
        "#Ao final, imprime a lista e o tamanho\n",
        "#Exercicioo 3\n",
        "carros = []\n",
        "carro = input('Digite o nome de um carro: ')\n",
        "while carro != '0':\n",
        "  carros.append(carro)\n",
        "  carro = input('Digite o nome de um carro: ')\n",
        "print(carros)\n",
        "print(len(carros))"
      ],
      "metadata": {
        "id": "EKM7JLRRWvzZ"
      },
      "execution_count": null,
      "outputs": []
    },
    {
      "cell_type": "code",
      "source": [
        "#Exercício 3\n",
        "#Escreva um programa pyton que tem uma lista de valores, e o usuário deve digitar um numero\n",
        "#Caso ele exista na lista, ela retorna a quantidade de vezes que ela ocorre na lista\n",
        "#Caso não exista, ela informa ao usuário não existe na lista\"\n",
        "lista = [2, 4, 5, 2, 3, 7, 8, 2, 5]\n",
        "\n",
        "very = int(input(\"Digite um número e veja se ele já está na lista: \"))\n",
        "if very in lista:\n",
        "  print(lista.count(very))\n",
        "else:\n",
        "  print(\"O número não está na lista\")\n"
      ],
      "metadata": {
        "id": "TTG9PBhUcRGz"
      },
      "execution_count": null,
      "outputs": []
    },
    {
      "cell_type": "markdown",
      "source": [
        "#REMOVENDO VALORES"
      ],
      "metadata": {
        "id": "TCV4o_nbd11b"
      }
    },
    {
      "cell_type": "code",
      "source": [
        "carros = ['gol', 'uno', 'fiesta', 'lada', 'marajo', 'voyage', 'santana']\n",
        "carros.pop(3)\n",
        "print(carros)\n"
      ],
      "metadata": {
        "id": "_YshRdk7cdED",
        "colab": {
          "base_uri": "https://localhost:8080/"
        },
        "outputId": "3214056d-cae7-4c16-8cf5-8577dda159e0"
      },
      "execution_count": null,
      "outputs": [
        {
          "output_type": "stream",
          "name": "stdout",
          "text": [
            "['gol', 'uno', 'fiesta', 'marajo', 'voyage', 'santana']\n"
          ]
        }
      ]
    },
    {
      "cell_type": "code",
      "source": [
        "#pop pelo indice\n",
        "lista = [\"maça\", \"banana\" , \"laranja\"]\n",
        "indice = lista.index(\"banana\") #Encontra o indice de \"banana\"\n",
        "lista.pop(indice) #Remove pelo indice\n",
        "print(lista) #Saída [maça, laranja]"
      ],
      "metadata": {
        "colab": {
          "base_uri": "https://localhost:8080/"
        },
        "id": "l-ows4ARfCTt",
        "outputId": "3704075f-1c7e-41a5-941d-81f007bcaba1"
      },
      "execution_count": null,
      "outputs": [
        {
          "output_type": "stream",
          "name": "stdout",
          "text": [
            "['maça', 'laranja']\n"
          ]
        }
      ]
    },
    {
      "cell_type": "code",
      "source": [
        "#del list[index]\n",
        "nums = [4, 5, 3, 2, 6, 8]\n",
        "del nums[3]\n",
        "print(nums)"
      ],
      "metadata": {
        "id": "XMDUzOLLfpAm"
      },
      "execution_count": null,
      "outputs": []
    },
    {
      "cell_type": "code",
      "source": [
        "#Remove() = remove a primeira ocorrência do valor especificado\n",
        "lista = ['jaca', 'melão', 'manga', 'graviola', 'jaca']\n",
        "lista.remove('jaca')\n",
        "print(lista)"
      ],
      "metadata": {
        "colab": {
          "base_uri": "https://localhost:8080/"
        },
        "id": "-RuZkiTggTM_",
        "outputId": "778196f5-1669-4586-a53f-4fa171ec86a6"
      },
      "execution_count": null,
      "outputs": [
        {
          "output_type": "stream",
          "name": "stdout",
          "text": [
            "['melão', 'manga', 'graviola', 'jaca']\n"
          ]
        }
      ]
    },
    {
      "cell_type": "code",
      "source": [
        "#Lista comprehension\n",
        "lista= ['jaca', 'melão', 'manga', 'graviola', 'jaca']\n",
        "fruta_remover = 'jaca'\n",
        "lista = [x for x in lista if x != fruta_remover]\n",
        "\n",
        "print(lista)"
      ],
      "metadata": {
        "id": "asQ0Y2sBgmnm"
      },
      "execution_count": null,
      "outputs": []
    },
    {
      "cell_type": "code",
      "source": [
        "#Na lista de notas a seguir, mantenha apeanas as que\n",
        "#São maiores ou iguais a seis. use list comprenhension\n",
        "\n",
        "notas = [6, 8, 5, 4, 7, 7, 9, 3, 6]\n",
        "\n",
        "notas = [x for x in notas if x >= 6]\n",
        "\n",
        "print(notas)\n"
      ],
      "metadata": {
        "colab": {
          "base_uri": "https://localhost:8080/"
        },
        "id": "RlvamGvuhSTJ",
        "outputId": "edbe62fb-25bd-4a02-a615-5bd97f964c5c"
      },
      "execution_count": null,
      "outputs": [
        {
          "output_type": "stream",
          "name": "stdout",
          "text": [
            "[6, 8, 7, 7, 9, 6]\n"
          ]
        }
      ]
    },
    {
      "cell_type": "markdown",
      "source": [
        "###Crie um programa que simula uma lista de tarefas\n",
        "o programa deve exibir um menu com 4 opções:\n",
        "\n",
        "\n",
        "1- adicionar tarefa\n",
        "\n",
        "\n",
        "2- remover tarefa\n",
        "\n",
        "\n",
        "3- listar tarefas\n",
        "\n",
        "\n",
        "4- Sair\n",
        "\n",
        "o programa deve continuar exibindo o menu até o usuário escolher \"Sair\n",
        "\n"
      ],
      "metadata": {
        "id": "8s-6erjfi41f"
      }
    },
    {
      "cell_type": "code",
      "source": [
        "tarefas = []\n",
        "\n",
        "print('1 - Adicionar tarefa')\n",
        "print('2 - Remover tarefa')\n",
        "print('3 - Listar tarefas')\n",
        "print('4 - Sair')\n",
        "\n",
        "while True:\n",
        "  opcao = int(input(\"Digite uma opção: \"))\n",
        "  if opcao == 1:\n",
        "    add = input(\"Digite uma tarefa: \")\n",
        "    tarefas.append(add)\n",
        "  elif opcao == 2:\n",
        "    tira = input(\"Digite uma tarefa: \")\n",
        "    tarefas.remove(tira)\n",
        "  elif opcao == 3:\n",
        "   print(tarefas)\n",
        "  elif opcao == 4:\n",
        "    break"
      ],
      "metadata": {
        "colab": {
          "base_uri": "https://localhost:8080/"
        },
        "id": "673iF3l_jYrP",
        "outputId": "6ff16549-1ffc-4ed2-e276-a4234d3480e5"
      },
      "execution_count": 36,
      "outputs": [
        {
          "name": "stdout",
          "output_type": "stream",
          "text": [
            "1 - Adicionar tarefa\n",
            "2 - Remover tarefa\n",
            "3 - Listar tarefas\n",
            "4 - Sair\n",
            "Digite uma opção: 1\n",
            "Digite uma tarefa: Bater em Miguel\n",
            "Digite uma opção: 1\n",
            "Digite uma tarefa: Comprar pao\n",
            "Digite uma opção: 1\n",
            "Digite uma tarefa: Voltar pra casa\n",
            "Digite uma opção: 2\n",
            "Digite uma tarefa: Bater em Miguel\n",
            "Digite uma opção: 3\n",
            "['Comprar pao', 'Voltar pra casa']\n",
            "Digite uma opção: 4\n"
          ]
        }
      ]
    },
    {
      "cell_type": "code",
      "source": [],
      "metadata": {
        "id": "_ZGiRfOni9qd"
      },
      "execution_count": null,
      "outputs": []
    }
  ]
}