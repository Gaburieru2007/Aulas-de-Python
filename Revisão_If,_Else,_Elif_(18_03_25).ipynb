{
  "nbformat": 4,
  "nbformat_minor": 0,
  "metadata": {
    "colab": {
      "provenance": [],
      "authorship_tag": "ABX9TyP5NTrum4VaV99WiwLPsxe7",
      "include_colab_link": true
    },
    "kernelspec": {
      "name": "python3",
      "display_name": "Python 3"
    },
    "language_info": {
      "name": "python"
    }
  },
  "cells": [
    {
      "cell_type": "markdown",
      "metadata": {
        "id": "view-in-github",
        "colab_type": "text"
      },
      "source": [
        "<a href=\"https://colab.research.google.com/github/Gaburieru2007/Aulas-de-Python/blob/main/Revis%C3%A3o_If%2C_Else%2C_Elif_(18_03_25).ipynb\" target=\"_parent\"><img src=\"https://colab.research.google.com/assets/colab-badge.svg\" alt=\"Open In Colab\"/></a>"
      ]
    },
    {
      "cell_type": "markdown",
      "source": [
        "#1- Pede para o usuário digitar um número inteiro e informa se é par ou impar"
      ],
      "metadata": {
        "id": "XshavvdKLctr"
      }
    },
    {
      "cell_type": "code",
      "execution_count": null,
      "metadata": {
        "id": "JGgZ3kfJLZaY"
      },
      "outputs": [],
      "source": [
        "v1= int(input(\"Digite um valor e saiba se ele é par ou impar: \"))\n",
        "if v1 %2 == 0:\n",
        "  print(\"É Par\")\n",
        "else:\n",
        "  print(\"É Impar\")"
      ]
    },
    {
      "cell_type": "markdown",
      "source": [
        "#2- Pede dois números e informa o maior"
      ],
      "metadata": {
        "id": "jUvIPoOSMLjz"
      }
    },
    {
      "cell_type": "code",
      "source": [
        "v1= int(input(\"Informe o primeiro valor: \"))\n",
        "v2= int(input(\"Informe o segundo valor: \"))\n",
        "if v1 > v2:\n",
        "  print(v1, \"é o maior\" )\n",
        "elif v1 == v2:\n",
        "    print(\"São o mesmo número\")\n",
        "else:\n",
        "  print(v2, \"é o maior\" )"
      ],
      "metadata": {
        "colab": {
          "base_uri": "https://localhost:8080/"
        },
        "id": "u8NCxgnGMb06",
        "outputId": "28f97c26-6e0f-4f6b-89f6-b1c19a4467c0"
      },
      "execution_count": null,
      "outputs": [
        {
          "output_type": "stream",
          "name": "stdout",
          "text": [
            "Informe o primeiro valor: 4\n",
            "Informe o segundo valor: 4\n",
            "São o mesmo número\n"
          ]
        }
      ]
    },
    {
      "cell_type": "markdown",
      "source": [
        "#3- Solicita as 3 notas de um individuo, calcula a média e:\n",
        "Aprovado: se a nota for igual ou superior a 7\n",
        "Recuperação: se a nota for menor que 7 e maior ou igual a 4\n",
        "Reprovado: Se a nota for menor que 4"
      ],
      "metadata": {
        "id": "rNvUMG4HO0sY"
      }
    },
    {
      "cell_type": "code",
      "source": [
        "nota1= float(input(\"Me diga sua primeira nota: \"))\n",
        "nota2= float(input(\"Me diga sua segunda nota: \"))\n",
        "nota3= float(input(\"Me diga sua terceira nota: \"))\n",
        "media = (nota1 + nota2 + nota3) /3\n",
        "print(\"Sua média é: \", f'{media:.1f}')\n",
        "if media >= 7:\n",
        "  print(\"Aprovado\")\n",
        "elif media >= 4:\n",
        "  print(\"Recuperação\")\n",
        "else:\n",
        "  print(\"Reprovado\")"
      ],
      "metadata": {
        "colab": {
          "base_uri": "https://localhost:8080/"
        },
        "id": "Sal4f5uDPVIa",
        "outputId": "91e45793-3ff6-4301-96a4-28d7302eb591"
      },
      "execution_count": null,
      "outputs": [
        {
          "output_type": "stream",
          "name": "stdout",
          "text": [
            "Me diga sua primeira nota: 10\n",
            "Me diga sua segunda nota: 5\n",
            "Me diga sua terceira nota: 8\n",
            "Sua média é:  7.7\n",
            "Aprovado\n"
          ]
        }
      ]
    }
  ]
}